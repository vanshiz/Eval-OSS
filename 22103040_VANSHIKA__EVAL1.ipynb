{
 "cells": [
  {
   "cell_type": "code",
   "execution_count": 28,
   "id": "919f0b8b",
   "metadata": {},
   "outputs": [
    {
     "name": "stdout",
     "output_type": "stream",
     "text": [
      "Enter the no of students 3\n",
      "Enter the name of the student: Harry\n",
      "Enter the class: 5\n",
      "Enter the height: 170\n",
      "Enter the weight: 50\n",
      "Enter the sport: Football\n",
      "Enter the name of the student:  Herminone\n",
      "Enter the class: 5\n",
      "Enter the height: 160\n",
      "Enter the weight: 10\n",
      "Enter the sport: Chess\n",
      "Enter the name of the student: Ron\n",
      "Enter the class: 5\n",
      "Enter the height: 160\n",
      "Enter the weight: 150\n",
      "Enter the sport: chess\n"
     ]
    }
   ],
   "source": [
    "count=int(input(\"Enter the no of students\"))\n",
    "ans=dict()\n",
    "for i in range(1,count+1):\n",
    "    student_name=input(\"Enter the name of the student: \")\n",
    "    className=input(\"Enter the class: \")\n",
    "    height=float(input(\"Enter the height: \"))\n",
    "    weight=float(input(\"Enter the weight: \"))\n",
    "    sport=input(\"Enter the sport: \")\n",
    "\n",
    "    sportsDict=dict()\n",
    "    sportsDict[\"Name\"]=student_name\n",
    "    sportsDict[\"Class\"]=className\n",
    "    sportsDict[\"Height\"]=height\n",
    "    sportsDict[\"Weight\"]=weight\n",
    "    sportsDict[\"sport\"]=sport\n",
    "\n",
    "    ans[i]=sportsDict\n",
    "\n"
   ]
  },
  {
   "cell_type": "code",
   "execution_count": 29,
   "id": "cc7f94b2",
   "metadata": {},
   "outputs": [
    {
     "name": "stdout",
     "output_type": "stream",
     "text": [
      "{1: {'Name': 'Harry', 'Class': '5', 'Height': 170.0, 'Weight': 50.0, 'sport': 'Football'}, 2: {'Name': ' Herminone', 'Class': '5', 'Height': 160.0, 'Weight': 10.0, 'sport': 'Chess'}, 3: {'Name': 'Ron', 'Class': '5', 'Height': 160.0, 'Weight': 150.0, 'sport': 'chess'}}\n"
     ]
    }
   ],
   "source": [
    "print(ans)"
   ]
  },
  {
   "cell_type": "code",
   "execution_count": 30,
   "id": "4f0bfb48",
   "metadata": {},
   "outputs": [],
   "source": [
    "def makeDietChart(values):\n",
    "    calorie=float(input(\"Enter the calories for: \"+values['Name']))\n",
    "    bmi=(values['Weight']/values['Height']**2)*10**4\n",
    "    if bmi<18:\n",
    "        print(values['Name'],\" is underweight (RED)\")\n",
    "        if calorie>idealCalorie:\n",
    "            print(\"Decrease your calorie consumption \\n\")\n",
    "        elif calorie<idealCalorie:\n",
    "            print(\"Increase your calories consumption (ORANGE)\\n\")\n",
    "        else:\n",
    "            print(\"Sufficient Consumption (GREEN)\\n\")\n",
    "    elif bmi>25:\n",
    "        print(values['Name'],\" is Overweight\\n\")\n",
    "        if calorie>idealCalorie:\n",
    "            print(\"Decrease your calorie consumption \\n\")\n",
    "        elif calorie<idealCalorie:\n",
    "            print(\"Increase your calories consumption (ORANGE)\\n\")\n",
    "        else:\n",
    "            print(\"Sufficient Consumption (GREEN) \\n\")\n",
    "    else:\n",
    "        print(values['Name'],\" is Fit \\n\")\n",
    "        if calorie>idealCalorie:\n",
    "            print(\"Decrease your calorie consumption \\n\")\n",
    "        elif calorie<idealCalorie:\n",
    "            print(\"Increase your calories consumption (ORANGE)\\n\")\n",
    "        else:\n",
    "            print(\"Sufficient Consumption (GREEN)\\n\")\n",
    "    "
   ]
  },
  {
   "cell_type": "code",
   "execution_count": 31,
   "id": "5458b47c",
   "metadata": {},
   "outputs": [
    {
     "name": "stdout",
     "output_type": "stream",
     "text": [
      "Enter the calories for: Harry500\n",
      "Harry  is underweight (RED)\n",
      "Sufficient Consumption (GREEN)\n",
      "\n",
      "\n",
      "\n",
      "Enter the calories for:  Herminone600\n",
      " Herminone  is underweight (RED)\n",
      "Decrease your calorie consumption \n",
      "\n",
      "\n",
      "\n",
      "Enter the calories for: Ron400\n",
      "Ron  is Overweight\n",
      "\n",
      "Increase your calories consumption (ORANGE)\n",
      "\n",
      "\n",
      "\n"
     ]
    }
   ],
   "source": [
    "idealCalorie=500\n",
    "for key, values in ans.items():    \n",
    "    makeDietChart(values)\n",
    "    print('\\n')\n",
    "    "
   ]
  },
  {
   "cell_type": "code",
   "execution_count": 33,
   "id": "baec857f",
   "metadata": {},
   "outputs": [
    {
     "data": {
      "text/plain": [
       "17.301038062283737"
      ]
     },
     "execution_count": 33,
     "metadata": {},
     "output_type": "execute_result"
    }
   ],
   "source": [
    "50/170**2* 10**4"
   ]
  },
  {
   "cell_type": "code",
   "execution_count": null,
   "id": "2a7aeb8c",
   "metadata": {},
   "outputs": [],
   "source": []
  }
 ],
 "metadata": {
  "kernelspec": {
   "display_name": "Python 3 (ipykernel)",
   "language": "python",
   "name": "python3"
  },
  "language_info": {
   "codemirror_mode": {
    "name": "ipython",
    "version": 3
   },
   "file_extension": ".py",
   "mimetype": "text/x-python",
   "name": "python",
   "nbconvert_exporter": "python",
   "pygments_lexer": "ipython3",
   "version": "3.11.5"
  }
 },
 "nbformat": 4,
 "nbformat_minor": 5
}
